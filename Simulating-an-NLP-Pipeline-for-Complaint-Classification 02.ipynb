{
 "cells": [
  {
   "cell_type": "code",
   "execution_count": 2,
   "id": "4683d24c-a501-4812-b61e-4ce6665feccd",
   "metadata": {},
   "outputs": [
    {
     "name": "stdout",
     "output_type": "stream",
     "text": [
      "Cloning into 'Simulating-an-NLP-Pipeline-for-Complaint-Classification-02'...\n",
      "remote: Enumerating objects: 3, done.\u001b[K\n",
      "remote: Counting objects: 100% (3/3), done.\u001b[K\n",
      "remote: Compressing objects: 100% (2/2), done.\u001b[K\n",
      "remote: Total 3 (delta 0), reused 0 (delta 0), pack-reused 0 (from 0)\u001b[K\n",
      "Receiving objects: 100% (3/3), done.\n"
     ]
    }
   ],
   "source": [
    "!git clone https://github.com/OTN-Rajapaksha/Simulating-an-NLP-Pipeline-for-Complaint-Classification-02.git"
   ]
  },
  {
   "cell_type": "markdown",
   "id": "6d4c3794-fb69-4768-bd38-a0d556976f81",
   "metadata": {},
   "source": [
    "Part A – Text Preprocessing\n",
    "Let's process the review:\n",
    "\"I ordered a dress and it arrived late. The quality is terrible and I can’t return it!\""
   ]
  },
  {
   "cell_type": "code",
   "execution_count": 4,
   "id": "14be9d7a-a793-40da-9a60-8feabd6030b5",
   "metadata": {},
   "outputs": [
    {
     "name": "stderr",
     "output_type": "stream",
     "text": [
      "[nltk_data] Downloading package punkt to\n",
      "[nltk_data]     /Users/oshanrajapaksha/nltk_data...\n",
      "[nltk_data]   Package punkt is already up-to-date!\n",
      "[nltk_data] Downloading package stopwords to\n",
      "[nltk_data]     /Users/oshanrajapaksha/nltk_data...\n",
      "[nltk_data]   Package stopwords is already up-to-date!\n",
      "[nltk_data] Downloading package wordnet to\n",
      "[nltk_data]     /Users/oshanrajapaksha/nltk_data...\n",
      "[nltk_data]   Package wordnet is already up-to-date!\n"
     ]
    },
    {
     "name": "stdout",
     "output_type": "stream",
     "text": [
      "Lowercase: i ordered a dress and it arrived late. the quality is terrible and i can’t return it!\n",
      "Sentences: ['i ordered a dress and it arrived late.', 'the quality is terrible and i can’t return it!']\n",
      "Words: ['i', 'ordered', 'a', 'dress', 'and', 'it', 'arrived', 'late', '.', 'the', 'quality', 'is', 'terrible', 'and', 'i', 'can', '’', 't', 'return', 'it', '!']\n",
      "Without stopwords: ['ordered', 'dress', 'arrived', 'late', 'quality', 'terrible', 'return']\n",
      "Lemmatized: ['ordered', 'dress', 'arrived', 'late', 'quality', 'terrible', 'return']\n"
     ]
    }
   ],
   "source": [
    "import nltk\n",
    "from nltk.tokenize import sent_tokenize, word_tokenize\n",
    "from nltk.corpus import stopwords\n",
    "from nltk.stem import WordNetLemmatizer\n",
    "\n",
    "# Download necessary resources\n",
    "nltk.download('punkt')\n",
    "nltk.download('stopwords')\n",
    "nltk.download('wordnet')\n",
    "\n",
    "review = \"I ordered a dress and it arrived late. The quality is terrible and I can’t return it!\"\n",
    "\n",
    "# 1. Convert to lowercase\n",
    "review_lower = review.lower()\n",
    "print(\"Lowercase:\", review_lower)\n",
    "\n",
    "# 2. Tokenize sentences and words\n",
    "sentences = sent_tokenize(review_lower)\n",
    "print(\"Sentences:\", sentences)\n",
    "\n",
    "words = word_tokenize(review_lower)\n",
    "print(\"Words:\", words)\n",
    "\n",
    "# 3. Remove stopwords\n",
    "stop_words = set(stopwords.words('english'))\n",
    "words_nostop = [word for word in words if word.isalpha() and word not in stop_words]\n",
    "print(\"Without stopwords:\", words_nostop)\n",
    "\n",
    "# 4. Lemmatization\n",
    "lemmatizer = WordNetLemmatizer()\n",
    "lemmatized = [lemmatizer.lemmatize(word) for word in words_nostop]\n",
    "print(\"Lemmatized:\", lemmatized)\n"
   ]
  },
  {
   "cell_type": "markdown",
   "id": "4b202f3c-4829-473e-8b64-c7d7b3534878",
   "metadata": {},
   "source": [
    "Part B – Feature Engineering"
   ]
  },
  {
   "cell_type": "code",
   "execution_count": 6,
   "id": "085ecfb1-7cf1-47b0-88fd-b6ad00da3719",
   "metadata": {},
   "outputs": [
    {
     "name": "stdout",
     "output_type": "stream",
     "text": [
      "Bag-of-Words: Counter({'ordered': 1, 'dress': 1, 'arrived': 1, 'late': 1, 'quality': 1, 'terrible': 1, 'return': 1})\n"
     ]
    }
   ],
   "source": [
    "from collections import Counter\n",
    "\n",
    "bow = Counter(lemmatized)\n",
    "print(\"Bag-of-Words:\", bow)\n"
   ]
  },
  {
   "cell_type": "markdown",
   "id": "55f18506-9757-4540-8244-a72b5aff5e8a",
   "metadata": {},
   "source": [
    "Part C – Mock Classification\n",
    "\n",
    "Sentiment:\n",
    "Negative\n",
    "Justification:\n",
    "\n",
    "Words such as \"late\", \"terrible\", and \"return\" indicate dissatisfaction. The reviewer complains about late delivery, poor quality, and inability to return the item, all of which are negative experiences."
   ]
  },
  {
   "cell_type": "code",
   "execution_count": null,
   "id": "08fa07f5-45cb-4013-b8cf-74411dfda675",
   "metadata": {},
   "outputs": [],
   "source": [
    "Part D – Reflection on Evaluation\n",
    "\n",
    "Evaluation Metrics:\n",
    "\n",
    "Accuracy: Proportion of correct predictions out of total predictions.\n",
    "Precision: Proportion of true positives out of all predicted positives.\n",
    "Recall: Proportion of true positives out of all actual positives.\n",
    "F1-Score: Harmonic mean of precision and recall.\n",
    "\n",
    "Most Important Metric:\n",
    "\n",
    "For customer complaint classification, Recall is often most important. Missing a genuine complaint (false negative) can lead to unresolved customer issues, so it is crucial to identify all actual complaints, even if it means occasionally flagging non-complaints by mistake."
   ]
  },
  {
   "cell_type": "markdown",
   "id": "ab31fd22-88bd-49d2-907e-f40f0f601fe7",
   "metadata": {},
   "source": [
    "Part E – Additional Review\n",
    "\n",
    "Let's process:\n",
    "\n",
    "\"Loved the product! It arrived earlier than expected and fits perfectly.\"\n"
   ]
  },
  {
   "cell_type": "code",
   "execution_count": 8,
   "id": "b4de0811-d9fa-4484-a42d-36ad482db672",
   "metadata": {},
   "outputs": [
    {
     "name": "stdout",
     "output_type": "stream",
     "text": [
      "Lemmatized: ['loved', 'product', 'arrived', 'earlier', 'expected', 'fit', 'perfectly']\n",
      "Bag-of-Words: Counter({'loved': 1, 'product': 1, 'arrived': 1, 'earlier': 1, 'expected': 1, 'fit': 1, 'perfectly': 1})\n"
     ]
    }
   ],
   "source": [
    "review2 = \"Loved the product! It arrived earlier than expected and fits perfectly.\"\n",
    "\n",
    "# Preprocessing\n",
    "review2_lower = review2.lower()\n",
    "sentences2 = sent_tokenize(review2_lower)\n",
    "words2 = word_tokenize(review2_lower)\n",
    "words2_nostop = [word for word in words2 if word.isalpha() and word not in stop_words]\n",
    "lemmatized2 = [lemmatizer.lemmatize(word) for word in words2_nostop]\n",
    "\n",
    "# Bag-of-Words\n",
    "bow2 = Counter(lemmatized2)\n",
    "\n",
    "print(\"Lemmatized:\", lemmatized2)\n",
    "print(\"Bag-of-Words:\", bow2)\n"
   ]
  },
  {
   "cell_type": "code",
   "execution_count": null,
   "id": "bea5b696-7925-41a1-b39b-50691ea0a764",
   "metadata": {},
   "outputs": [],
   "source": []
  }
 ],
 "metadata": {
  "kernelspec": {
   "display_name": "Python [conda env:base] *",
   "language": "python",
   "name": "conda-base-py"
  },
  "language_info": {
   "codemirror_mode": {
    "name": "ipython",
    "version": 3
   },
   "file_extension": ".py",
   "mimetype": "text/x-python",
   "name": "python",
   "nbconvert_exporter": "python",
   "pygments_lexer": "ipython3",
   "version": "3.12.2"
  }
 },
 "nbformat": 4,
 "nbformat_minor": 5
}
