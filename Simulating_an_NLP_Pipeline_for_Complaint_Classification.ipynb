{
  "nbformat": 4,
  "nbformat_minor": 0,
  "metadata": {
    "colab": {
      "provenance": []
    },
    "kernelspec": {
      "name": "python3",
      "display_name": "Python 3"
    },
    "language_info": {
      "name": "python"
    }
  },
  "cells": [
    {
      "cell_type": "code",
      "execution_count": 2,
      "metadata": {
        "colab": {
          "base_uri": "https://localhost:8080/",
          "height": 0
        },
        "id": "8fE22zoB9WTn",
        "outputId": "b4c704e9-d328-4728-b158-8ce75a526dba"
      },
      "outputs": [
        {
          "output_type": "stream",
          "name": "stderr",
          "text": [
            "[nltk_data] Downloading package punkt to /root/nltk_data...\n",
            "[nltk_data]   Package punkt is already up-to-date!\n",
            "[nltk_data] Downloading package stopwords to /root/nltk_data...\n",
            "[nltk_data]   Package stopwords is already up-to-date!\n",
            "[nltk_data] Downloading package wordnet to /root/nltk_data...\n",
            "[nltk_data]   Package wordnet is already up-to-date!\n",
            "[nltk_data] Downloading package punkt_tab to /root/nltk_data...\n",
            "[nltk_data]   Unzipping tokenizers/punkt_tab.zip.\n"
          ]
        },
        {
          "output_type": "stream",
          "name": "stdout",
          "text": [
            "Lowercase: i ordered a dress and it arrived late. the quality is terrible and i can’t return it!\n",
            "Sentences: ['i ordered a dress and it arrived late.', 'the quality is terrible and i can’t return it!']\n",
            "Words: ['i', 'ordered', 'a', 'dress', 'and', 'it', 'arrived', 'late', '.', 'the', 'quality', 'is', 'terrible', 'and', 'i', 'can', '’', 't', 'return', 'it', '!']\n",
            "Without stopwords: ['ordered', 'dress', 'arrived', 'late', 'quality', 'terrible', 'return']\n",
            "Lemmatized: ['ordered', 'dress', 'arrived', 'late', 'quality', 'terrible', 'return']\n"
          ]
        }
      ],
      "source": [
        "import nltk\n",
        "from nltk.tokenize import sent_tokenize, word_tokenize\n",
        "from nltk.corpus import stopwords\n",
        "from nltk.stem import WordNetLemmatizer\n",
        "\n",
        "# Download necessary resources\n",
        "nltk.download('punkt')\n",
        "nltk.download('stopwords')\n",
        "nltk.download('wordnet')\n",
        "nltk.download('punkt_tab') # Download the missing resource\n",
        "\n",
        "review = \"I ordered a dress and it arrived late. The quality is terrible and I can’t return it!\"\n",
        "\n",
        "# 1. Convert to lowercase\n",
        "review_lower = review.lower()\n",
        "print(\"Lowercase:\", review_lower)\n",
        "\n",
        "# 2. Tokenize sentences and words\n",
        "sentences = sent_tokenize(review_lower)\n",
        "print(\"Sentences:\", sentences)\n",
        "\n",
        "words = word_tokenize(review_lower)\n",
        "print(\"Words:\", words)\n",
        "\n",
        "# 3. Remove stopwords\n",
        "stop_words = set(stopwords.words('english'))\n",
        "words_nostop = [word for word in words if word.isalpha() and word not in stop_words]\n",
        "print(\"Without stopwords:\", words_nostop)\n",
        "\n",
        "# 4. Lemmatization\n",
        "lemmatizer = WordNetLemmatizer()\n",
        "lemmatized = [lemmatizer.lemmatize(word) for word in words_nostop]\n",
        "print(\"Lemmatized:\", lemmatized)"
      ]
    },
    {
      "cell_type": "markdown",
      "source": [
        "\n",
        "**Part B – Feature Engineering**"
      ],
      "metadata": {
        "id": "kilHRoo1ACfV"
      }
    },
    {
      "cell_type": "code",
      "source": [
        "from collections import Counter\n",
        "\n",
        "bow = Counter(lemmatized)\n",
        "print(\"Bag-of-Words:\", bow)\n"
      ],
      "metadata": {
        "colab": {
          "base_uri": "https://localhost:8080/",
          "height": 0
        },
        "id": "nnSwGq47AIvj",
        "outputId": "bcafa393-d95a-443b-9847-664cc96678b1"
      },
      "execution_count": 3,
      "outputs": [
        {
          "output_type": "stream",
          "name": "stdout",
          "text": [
            "Bag-of-Words: Counter({'ordered': 1, 'dress': 1, 'arrived': 1, 'late': 1, 'quality': 1, 'terrible': 1, 'return': 1})\n"
          ]
        }
      ]
    },
    {
      "cell_type": "markdown",
      "source": [
        "**Part C – Mock Classification**\n",
        "\n",
        "Sentiment: Negative Justification:\n",
        "\n",
        "Words such as \"late\", \"terrible\", and \"return\" indicate dissatisfaction. The reviewer complains about late delivery, poor quality, and inability to return the item, all of which are negative experiences."
      ],
      "metadata": {
        "id": "CUAl-GjKBOFq"
      }
    },
    {
      "cell_type": "markdown",
      "source": [
        "**Part D – Reflection on Evaluation**\n",
        "**bold text**\n",
        "Evaluation Metrics:\n",
        "\n",
        "Accuracy: Proportion of correct predictions out of total predictions.\n",
        "Precision: Proportion of true positives out of all predicted positives.\n",
        "Recall: Proportion of true positives out of all actual positives.\n",
        "F1-Score: Harmonic mean of precision and recall.\n",
        "\n",
        "Most Important Metric:\n",
        "\n",
        "For customer complaint classification, Recall is often most important. Missing a genuine complaint (false negative) can lead to unresolved customer issues, so it is crucial to identify all actual complaints, even if it means occasionally flagging non-complaints by mistake."
      ],
      "metadata": {
        "id": "uXNN6rOfBXDt"
      }
    },
    {
      "cell_type": "markdown",
      "source": [
        "**Part E – Additional Review**\n",
        "\n",
        "Let's process:\n",
        "\n",
        "\"Loved the product! It arrived earlier than expected and fits perfectly.\"\n"
      ],
      "metadata": {
        "id": "ZT8md2BoBhOO"
      }
    },
    {
      "cell_type": "code",
      "source": [
        "review2 = \"Loved the product! It arrived earlier than expected and fits perfectly.\"\n",
        "\n",
        "# Preprocessing\n",
        "review2_lower = review2.lower()\n",
        "sentences2 = sent_tokenize(review2_lower)\n",
        "words2 = word_tokenize(review2_lower)\n",
        "words2_nostop = [word for word in words2 if word.isalpha() and word not in stop_words]\n",
        "lemmatized2 = [lemmatizer.lemmatize(word) for word in words2_nostop]\n",
        "\n",
        "# Bag-of-Words\n",
        "bow2 = Counter(lemmatized2)\n",
        "\n",
        "print(\"Lemmatized:\", lemmatized2)\n",
        "print(\"Bag-of-Words:\", bow2)\n"
      ],
      "metadata": {
        "colab": {
          "base_uri": "https://localhost:8080/",
          "height": 0
        },
        "id": "lCZNV3vBBjCb",
        "outputId": "9a753430-ceb0-4a84-a7f9-9e8fbce4481a"
      },
      "execution_count": 4,
      "outputs": [
        {
          "output_type": "stream",
          "name": "stdout",
          "text": [
            "Lemmatized: ['loved', 'product', 'arrived', 'earlier', 'expected', 'fit', 'perfectly']\n",
            "Bag-of-Words: Counter({'loved': 1, 'product': 1, 'arrived': 1, 'earlier': 1, 'expected': 1, 'fit': 1, 'perfectly': 1})\n"
          ]
        }
      ]
    }
  ]
}